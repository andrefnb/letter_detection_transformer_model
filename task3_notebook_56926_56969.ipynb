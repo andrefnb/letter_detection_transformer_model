{
 "cells": [
  {
   "cell_type": "markdown",
   "metadata": {
    "colab_type": "text",
    "id": "QI0Kzak8j7VF"
   },
   "source": [
    "# ADNE - Task 3\n",
    "\n",
    "- André Bastos, nº 56969\n",
    "- Rafaela Cruz, nº 56926\n",
    "\n",
    "Tensorflow version: 2.2.0"
   ]
  },
  {
   "cell_type": "markdown",
   "metadata": {
    "colab_type": "text",
    "id": "oTmHyFz6ORrG"
   },
   "source": [
    "# Imports"
   ]
  },
  {
   "cell_type": "code",
   "execution_count": 0,
   "metadata": {
    "colab": {},
    "colab_type": "code",
    "id": "FdSmtD4ct1z3"
   },
   "outputs": [],
   "source": [
    "%tensorflow_version 2.x"
   ]
  },
  {
   "cell_type": "code",
   "execution_count": 0,
   "metadata": {
    "colab": {
     "base_uri": "https://localhost:8080/",
     "height": 35
    },
    "colab_type": "code",
    "id": "TFyBN0_Txn7n",
    "outputId": "da9dede2-ccef-4ae9-bf6e-947c8044d23f"
   },
   "outputs": [
    {
     "name": "stdout",
     "output_type": "stream",
     "text": [
      "2.2.0\n"
     ]
    }
   ],
   "source": [
    "import os\n",
    "import numpy as np\n",
    "import matplotlib.pyplot as plt\n",
    "from shutil import copy\n",
    "import time\n",
    "\n",
    "import IPython.display as display\n",
    "\n",
    "import tensorflow as tf\n",
    "from tensorflow import keras\n",
    "from tensorflow.keras.optimizers import Adam\n",
    "from tensorflow.keras.models import Model\n",
    "from tensorflow.keras.layers import Input, BatchNormalization, Conv2D, Dense, Reshape\n",
    "from tensorflow.keras.layers import MaxPooling2D, Activation, Flatten, Dropout, ZeroPadding2D\n",
    "\n",
    "print(tf.__version__)"
   ]
  },
  {
   "cell_type": "markdown",
   "metadata": {
    "colab_type": "text",
    "id": "96lXhPlPsx8k"
   },
   "source": [
    "## Import data from Drive"
   ]
  },
  {
   "cell_type": "code",
   "execution_count": 0,
   "metadata": {
    "colab": {
     "base_uri": "https://localhost:8080/",
     "height": 35
    },
    "colab_type": "code",
    "id": "zEnfN6iAt6zT",
    "outputId": "a525bf3e-8b69-46a1-f6df-f18309af06a8"
   },
   "outputs": [
    {
     "name": "stdout",
     "output_type": "stream",
     "text": [
      "Drive already mounted at /content/google-drive; to attempt to forcibly remount, call drive.mount(\"/content/google-drive\", force_remount=True).\n"
     ]
    }
   ],
   "source": [
    "from google.colab import drive\n",
    "drive.mount('/content/google-drive')"
   ]
  },
  {
   "cell_type": "markdown",
   "metadata": {
    "colab_type": "text",
    "id": "Qi9XDCicekGb"
   },
   "source": [
    "## Copying tfrecords from drive to colab"
   ]
  },
  {
   "cell_type": "code",
   "execution_count": 0,
   "metadata": {
    "colab": {
     "base_uri": "https://localhost:8080/",
     "height": 52
    },
    "colab_type": "code",
    "id": "PnWRuxm3vnpv",
    "outputId": "3e8fb6c6-15a2-4045-b2ac-63514ff65389"
   },
   "outputs": [
    {
     "name": "stdout",
     "output_type": "stream",
     "text": [
      "mkdir: cannot create directory ‘trainData’: File exists\n",
      "images_test.tfrecords  images_train.tfrecords  images_validation.tfrecords\n"
     ]
    }
   ],
   "source": [
    "!mkdir trainData\n",
    "copy(\"/content/google-drive/My Drive/ADNE/images_test.tfrecords\", \"./trainData/\")\n",
    "copy(\"/content/google-drive/My Drive/ADNE/images_train.tfrecords\", \"./trainData/\")\n",
    "copy(\"/content/google-drive/My Drive/ADNE/images_validation.tfrecords\", \"./trainData/\")\n",
    "!ls trainData"
   ]
  },
  {
   "cell_type": "markdown",
   "metadata": {
    "colab_type": "text",
    "id": "Xw0oSmX1tBGM"
   },
   "source": [
    "## Create tfrecords dataset"
   ]
  },
  {
   "cell_type": "code",
   "execution_count": 0,
   "metadata": {
    "colab": {},
    "colab_type": "code",
    "id": "7zSfRxebt10C"
   },
   "outputs": [],
   "source": [
    "tfrecordsDir = 'trainData/'\n",
    "train_raw_image_dataset = tf.data.TFRecordDataset(tfrecordsDir + 'images_train.tfrecords')\n",
    "valid_raw_image_dataset = tf.data.TFRecordDataset(tfrecordsDir + 'images_validation.tfrecords')\n",
    "test_raw_image_dataset = tf.data.TFRecordDataset(tfrecordsDir + 'images_test.tfrecords')"
   ]
  },
  {
   "cell_type": "markdown",
   "metadata": {
    "colab_type": "text",
    "id": "6shaNKIh7oE3"
   },
   "source": [
    "How many examples are in the tfrecord?"
   ]
  },
  {
   "cell_type": "code",
   "execution_count": 0,
   "metadata": {
    "colab": {
     "base_uri": "https://localhost:8080/",
     "height": 35
    },
    "colab_type": "code",
    "id": "QYw03J9dtGmv",
    "outputId": "92f5e37c-0990-4a91-a751-ef31f3d7a5f0"
   },
   "outputs": [
    {
     "name": "stdout",
     "output_type": "stream",
     "text": [
      "123922\n"
     ]
    }
   ],
   "source": [
    "count =0\n",
    "for i in train_raw_image_dataset:\n",
    "    count +=1\n",
    "print(count)"
   ]
  },
  {
   "cell_type": "code",
   "execution_count": 0,
   "metadata": {
    "colab": {
     "base_uri": "https://localhost:8080/",
     "height": 35
    },
    "colab_type": "code",
    "id": "c-ke9fF8L7co",
    "outputId": "5acc9108-3f9e-47be-be85-66b94275e0c5"
   },
   "outputs": [
    {
     "name": "stdout",
     "output_type": "stream",
     "text": [
      "30981\n"
     ]
    }
   ],
   "source": [
    "count =0\n",
    "for i in valid_raw_image_dataset:\n",
    "    count +=1\n",
    "print(count)"
   ]
  },
  {
   "cell_type": "code",
   "execution_count": 0,
   "metadata": {
    "colab": {
     "base_uri": "https://localhost:8080/",
     "height": 35
    },
    "colab_type": "code",
    "id": "CnuBeTHcL-Wb",
    "outputId": "dcfb6676-ebae-445e-8b77-57559f4876e3"
   },
   "outputs": [
    {
     "name": "stdout",
     "output_type": "stream",
     "text": [
      "30981\n"
     ]
    }
   ],
   "source": [
    "count =0\n",
    "for i in test_raw_image_dataset:\n",
    "    count +=1\n",
    "print(count)"
   ]
  },
  {
   "cell_type": "markdown",
   "metadata": {
    "colab_type": "text",
    "id": "0ZRFhXH3tL9q"
   },
   "source": [
    "## Decode tfrecords"
   ]
  },
  {
   "cell_type": "code",
   "execution_count": 0,
   "metadata": {
    "colab": {},
    "colab_type": "code",
    "id": "Vvzc61OXt10I"
   },
   "outputs": [],
   "source": [
    "# Create a dictionary describing the features.\n",
    "image_feature_description = {'label':  tf.io.FixedLenFeature([6], tf.int64),\n",
    "            'image_raw': tf.io.FixedLenFeature([], tf.string),\n",
    "        }"
   ]
  },
  {
   "cell_type": "code",
   "execution_count": 0,
   "metadata": {
    "colab": {},
    "colab_type": "code",
    "id": "Uqjmu7tIt10N"
   },
   "outputs": [],
   "source": [
    "def _parse_image_function(example_proto):\n",
    "    # Parse the input tf.Example proto using the dictionary above.\n",
    "    aux = tf.io.parse_single_example(example_proto, image_feature_description)\n",
    "    imageraw = aux['image_raw']\n",
    "    imagemat = tf.io.decode_jpeg(imageraw, channels=3)\n",
    "    imagemat = tf.cast(imagemat,dtype=tf.float32)\n",
    "    imagemat = 1/255*imagemat\n",
    "\n",
    "    label =  aux['label']\n",
    "  \n",
    "    #return tf.image.decode_jpeg(imageraw) #,label\n",
    "    return (imagemat,label)"
   ]
  },
  {
   "cell_type": "code",
   "execution_count": 0,
   "metadata": {
    "colab": {},
    "colab_type": "code",
    "id": "fVm-Izeb0-JM"
   },
   "outputs": [],
   "source": [
    "train_parsed_image_dataset = train_raw_image_dataset.map(_parse_image_function).shuffle(2000)\n",
    "valid_parsed_image_dataset = valid_raw_image_dataset.map(_parse_image_function).shuffle(2000)\n",
    "test_parsed_image_dataset = test_raw_image_dataset.map(_parse_image_function).shuffle(2000)"
   ]
  },
  {
   "cell_type": "markdown",
   "metadata": {
    "colab_type": "text",
    "id": "z_DXTwHTkjHD"
   },
   "source": [
    "## Visualization of one example with the used model vertical strips"
   ]
  },
  {
   "cell_type": "code",
   "execution_count": 0,
   "metadata": {
    "colab": {
     "base_uri": "https://localhost:8080/",
     "height": 52
    },
    "colab_type": "code",
    "id": "n4HtrGU4hX6e",
    "outputId": "7e3bbb71-5e03-4b27-9e43-7d6258aaab17"
   },
   "outputs": [
    {
     "name": "stdout",
     "output_type": "stream",
     "text": [
      "label (6,)\n",
      "image (48, 64, 3)\n"
     ]
    }
   ],
   "source": [
    "iterator = iter(train_parsed_image_dataset)\n",
    "image, label = next(iterator)\n",
    "\n",
    "print(\"label\", label.shape)\n",
    "print(\"image\", image.shape)"
   ]
  },
  {
   "cell_type": "code",
   "execution_count": 0,
   "metadata": {
    "colab": {
     "base_uri": "https://localhost:8080/",
     "height": 267
    },
    "colab_type": "code",
    "id": "MOrretT0zIvH",
    "outputId": "1bc5d9e1-e147-41ee-b71c-1418035dd8ac"
   },
   "outputs": [
    {
     "data": {
      "image/png": "[encoded data removed]",
      "text/plain": [
       "<Figure size 432x288 with 4 Axes>"
      ]
     },
     "metadata": {
      "needs_background": "light",
      "tags": []
     },
     "output_type": "display_data"
    }
   ],
   "source": [
    "n = 4\n",
    "splited_image = tf.split(image, n, axis = 1, num = None, name = \"split\")\n",
    "for i,im in enumerate(splited_image):\n",
    "    plt.subplot(1, n, i+1)\n",
    "    plt.imshow(im, interpolation=\"nearest\")\n",
    "plt.show()"
   ]
  },
  {
   "cell_type": "code",
   "execution_count": 0,
   "metadata": {
    "colab": {},
    "colab_type": "code",
    "id": "FS0D4Qcr1FRa"
   },
   "outputs": [],
   "source": [
    "# Function that receives a tensor (results of 2D convolution) and n (number of slices), and cuts the image input \n",
    "# into several vertical strips, reshapping them in the end to position the batch size in first dimension\n",
    "def split_tensor(t,n):\n",
    "    return tf.transpose( tf.split(t, n, axis=2, num=None, name='split'), perm=[1,0,2,3,4] )"
   ]
  },
  {
   "cell_type": "markdown",
   "metadata": {
    "colab_type": "text",
    "id": "gvWKYk0SNzOP"
   },
   "source": [
    "# Create Network\n",
    "\n",
    "## Encoder\n",
    "\n",
    "This encoder consists of a convolutional neural network that extracts features from the given input images and resizes them into a lower representation."
   ]
  },
  {
   "cell_type": "code",
   "execution_count": 0,
   "metadata": {
    "colab": {},
    "colab_type": "code",
    "id": "AMUa6VdMTzU_"
   },
   "outputs": [],
   "source": [
    "class Encoder(tf.keras.Model):\n",
    "    def __init__(self, shape = (48, 64, 3)):\n",
    "        super(Encoder, self).__init__()\n",
    "\n",
    "        self.conv_1 = Conv2D(16, (5,5), strides=1, padding=\"same\", input_shape=shape, activation='tanh')\n",
    "        self.max_pool_1 = MaxPooling2D(pool_size=(2,2), strides=2)\n",
    "        self.batch_norm_1 = BatchNormalization(axis=-1)\n",
    "        self.drop_1 = Dropout(0.1)\n",
    "\n",
    "        self.conv_2 = Conv2D(64, (5,5), strides=1, padding=\"same\", input_shape=shape, activation='tanh')\n",
    "        self.max_pool_2 = MaxPooling2D(pool_size=(3,3), strides=3)\n",
    "        self.batch_norm_2 = BatchNormalization(axis=-1)\n",
    "        self.drop_2 = Dropout(0.1)\n",
    "\n",
    "    def call(self, inputs):\n",
    "\n",
    "        output = self.conv_1(inputs)\n",
    "        output = self.max_pool_1(output)\n",
    "        output = self.batch_norm_1(output)\n",
    "        output = self.drop_1(output)\n",
    "\n",
    "        output = self.conv_2(output)\n",
    "        output = self.max_pool_2(output)\n",
    "        output = self.batch_norm_2(output)\n",
    "        output = self.drop_2(output)\n",
    "\n",
    "        return output\n"
   ]
  },
  {
   "cell_type": "code",
   "execution_count": 0,
   "metadata": {
    "colab": {
     "base_uri": "https://localhost:8080/",
     "height": 35
    },
    "colab_type": "code",
    "id": "vFWpNRVFUMaF",
    "outputId": "3f0aa262-e78f-498e-c611-a09d996dbb96"
   },
   "outputs": [
    {
     "name": "stdout",
     "output_type": "stream",
     "text": [
      "Encoder output shape: (batch size, sequence length, units) (4, 8, 10, 64)\n"
     ]
    }
   ],
   "source": [
    "# Example of encoder module\n",
    "BATCH_SIZE = 4\n",
    "NR_STRIPS = 5\n",
    "encoder = Encoder()\n",
    "_example = next(iter(train_parsed_image_dataset.batch(BATCH_SIZE)))\n",
    "input_example = _example[0]\n",
    "label_example = _example[1]\n",
    "\n",
    "sample_output = encoder(input_example)\n",
    "print ('Encoder output shape: (batch size, sequence length, units) {}'.format(sample_output.shape))\n"
   ]
  },
  {
   "cell_type": "markdown",
   "metadata": {
    "colab_type": "text",
    "id": "-6-MjOVpnlEr"
   },
   "source": [
    "## Attention Mechanism\n",
    "This attention mechanism, based on the paper \"Attention-Based Models for Speech Recognition\", allows the model to generate a number at each time step, focusing only on the relevant information."
   ]
  },
  {
   "cell_type": "code",
   "execution_count": 0,
   "metadata": {
    "colab": {},
    "colab_type": "code",
    "id": "HaDDPtjqSoBC"
   },
   "outputs": [],
   "source": [
    "class AttentionMechanism(tf.keras.layers.Layer):\n",
    "    def __init__(self, units, batch_size):\n",
    "        super(AttentionMechanism, self).__init__()\n",
    "        # Initialize parameter learning matrices\n",
    "        self.W = tf.keras.layers.Dense(units)\n",
    "        self.V = tf.keras.layers.Dense(units)\n",
    "        self.U = tf.keras.layers.Dense(units)\n",
    "        self.F = tf.keras.layers.Conv1D(3, 3, padding=\"same\")\n",
    "        # Parameter learning output neuron\n",
    "        self.final_layer = tf.keras.layers.Dense(1)\n",
    "        self.prev_attention_weights = tf.zeros((batch_size, NR_STRIPS, 1)) # Dimension of encoder's output: (BATCH_SIZE,NR_STRIPS,8*2*64)\n",
    "\n",
    "    def call(self, hidden_states, enc_output):\n",
    "        # Add a dimension to the hidden_states argument\n",
    "        hidden_states_with_time_axis = tf.expand_dims(hidden_states, 1)\n",
    "        # Gets the previous timestep alignment \n",
    "        previous_alignment = self.F(self.prev_attention_weights)\n",
    "        \n",
    "        # Multiply each of the inputs to be considered with parameter learning matrices\n",
    "        # Values for content-based approach\n",
    "        w_hidden_states = self.W(hidden_states_with_time_axis)\n",
    "        v_values = self.V(enc_output)\n",
    "        # Value for location awareness extension\n",
    "        u_prev_align = self.U(previous_alignment)\n",
    "        # Sum the results of above calculations and final layer application\n",
    "        score = self.final_layer(tf.nn.tanh(w_hidden_states + v_values + u_prev_align))\n",
    "\n",
    "        # Softmax normalization\n",
    "        attention_weights = tf.nn.softmax(score, axis=1)\n",
    "        # Update the previous attention weights with the current attention weights, for next timestep usage\n",
    "        self.prev_attention_weights = attention_weights\n",
    "        \n",
    "        # Multiply the encoder outputs by the attention weights to get the context vector\n",
    "        context_vector = attention_weights * enc_output\n",
    "        context_vector = tf.reduce_sum(context_vector, axis=1)\n",
    "\n",
    "        return context_vector, attention_weights"
   ]
  },
  {
   "cell_type": "code",
   "execution_count": 0,
   "metadata": {
    "colab": {
     "base_uri": "https://localhost:8080/",
     "height": 52
    },
    "colab_type": "code",
    "id": "5cDsRywfUQjW",
    "outputId": "535bd39e-a3a1-45c3-c9d1-4bfa8e90f1f6"
   },
   "outputs": [
    {
     "name": "stdout",
     "output_type": "stream",
     "text": [
      "Attention result shape: (batch size, units) (4, 1024)\n",
      "Attention weights shape: (batch_size, sequence_length, 1) (4, 5, 1)\n"
     ]
    }
   ],
   "source": [
    "# Example of attention mechanism module\n",
    "dec_units = 512\n",
    "attention_layer = AttentionMechanism(dec_units, BATCH_SIZE)\n",
    "sample_hidden = tf.zeros((BATCH_SIZE, dec_units))\n",
    "sample_output_splitted = split_tensor(sample_output, NR_STRIPS) # (4, 5, 8, 2, 64)\n",
    "# Reshape to (4, 5, 8 * 2 * 64)\n",
    "sample_output_splitted = tf.reshape(sample_output_splitted, (BATCH_SIZE, NR_STRIPS, 8 * 2 * 64))\n",
    "\n",
    "attention_result, attention_weights = attention_layer(sample_hidden, sample_output_splitted)\n",
    "\n",
    "print(\"Attention result shape: (batch size, units) {}\".format(attention_result.shape))\n",
    "print(\"Attention weights shape: (batch_size, sequence_length, 1) {}\".format(attention_weights.shape))\n"
   ]
  },
  {
   "cell_type": "markdown",
   "metadata": {
    "colab_type": "text",
    "id": "OopBCVyDuCIW"
   },
   "source": [
    "## Decoder\n",
    "This enconder generates a number at each time step, based on the encoder output and the attention weights returned by the attention mechanism.\n"
   ]
  },
  {
   "cell_type": "code",
   "execution_count": 0,
   "metadata": {
    "colab": {},
    "colab_type": "code",
    "id": "gTRuIIsVSqiG"
   },
   "outputs": [],
   "source": [
    "class Decoder(tf.keras.Model):\n",
    "    def __init__(self, dec_units, batch_sz):\n",
    "        super(Decoder, self).__init__()\n",
    "        self.batch_sz = batch_sz\n",
    "        self.dec_units = dec_units\n",
    "        # Initialize recurrent neural network used - GRU\n",
    "        self.rnn = tf.keras.layers.GRU(self.dec_units,\n",
    "                                       return_sequences=True,\n",
    "                                       return_state=True,\n",
    "                                       recurrent_initializer='glorot_uniform')\n",
    "        # Final layer with the same number of units as the columns created by one hot encoding\n",
    "        self.fc = tf.keras.layers.Dense(11)\n",
    "        \n",
    "        # Initialize the attention mechanism\n",
    "        self.attention = AttentionMechanism(self.dec_units, batch_sz)\n",
    "\n",
    "    def call(self, dec_input, hidden_states, enc_output):\n",
    "        # Get context vector and attention weights from attention mechanism based on the given hidden states and encoder output\n",
    "        context_vector, attention_weights = self.attention(hidden_states, enc_output)\n",
    "        \n",
    "        # Concatenate context vector and the previous decoder output (dec_input)\n",
    "        context_vector = tf.expand_dims(context_vector,1)\n",
    "        dec_input = tf.concat([context_vector, dec_input], axis=-1)\n",
    "        \n",
    "        # Passing the concatenated vector to the GRU\n",
    "        output, state = self.rnn(dec_input)\n",
    "        # Had to reshape to convenient format for network\n",
    "        output = tf.reshape(output, (-1, output.shape[2]))\n",
    "        # Get final digit prediction by passing the output to the last layer\n",
    "        prediction = self.fc(output)\n",
    "        \n",
    "        return prediction, state, attention_weights"
   ]
  },
  {
   "cell_type": "code",
   "execution_count": 0,
   "metadata": {
    "colab": {
     "base_uri": "https://localhost:8080/",
     "height": 35
    },
    "colab_type": "code",
    "id": "QXNx05hqUV_x",
    "outputId": "088d9ef0-fdeb-4450-d403-c2f6871ebd20"
   },
   "outputs": [
    {
     "name": "stdout",
     "output_type": "stream",
     "text": [
      "Decoder output shape: (batch_size, vocab size) (4, 11)\n"
     ]
    }
   ],
   "source": [
    "# Example of decoder module\n",
    "decoder = Decoder(10, BATCH_SIZE)\n",
    "x = tf.zeros((BATCH_SIZE, 1, 11))\n",
    "\n",
    "sample_output_splitted = split_tensor(sample_output, NR_STRIPS)\n",
    "# Reshape to (4, 5, 8 * 2 * 64)\n",
    "sample_output_splitted = tf.reshape(sample_output_splitted, (BATCH_SIZE, NR_STRIPS, 8 * 2 * 64))\n",
    "\n",
    "sample_decoder_output, hid_state, attention_weights = decoder(x, sample_hidden, sample_output_splitted)\n",
    "\n",
    "print ('Decoder output shape: (batch_size, vocab size) {}'.format(sample_decoder_output.shape))"
   ]
  },
  {
   "cell_type": "markdown",
   "metadata": {
    "colab_type": "text",
    "id": "aNZa0h6vzVP9"
   },
   "source": [
    "# Train the Network\n",
    "In this section we define the above modules to be used by the network as a whole. Also define the all the functions needed. \n",
    "\n",
    "Then we evaluate the results."
   ]
  },
  {
   "cell_type": "markdown",
   "metadata": {
    "colab_type": "text",
    "id": "dLyVjBlX0ixC"
   },
   "source": [
    "### Define loss and accuracy objects and functions"
   ]
  },
  {
   "cell_type": "code",
   "execution_count": 0,
   "metadata": {
    "colab": {},
    "colab_type": "code",
    "id": "9IYjUjZV0ygb"
   },
   "outputs": [],
   "source": [
    "# Had to force tensorflow to run in eager mode because of an error with the graph\n",
    "tf.config.experimental_run_functions_eagerly(True) \n",
    "# Initialize optimizer, loss and accuracy objects to be used\n",
    "optimizer = tf.keras.optimizers.Adam()\n",
    "loss_object = tf.keras.losses.CategoricalCrossentropy(from_logits=True, reduction='none')\n",
    "accuracy = tf.keras.metrics.Accuracy(name=\"accuracy\")\n",
    "\n",
    "# Define loss function\n",
    "def loss_function(real, pred):\n",
    "    loss_ = loss_object(real, pred)\n",
    "    return tf.reduce_mean(loss_)\n",
    "\n",
    "# Function that counts the data in a certain dataset\n",
    "def count_data(dataset):\n",
    "    count =0\n",
    "    for i in dataset:\n",
    "        count +=1\n",
    "    return count\n"
   ]
  },
  {
   "cell_type": "markdown",
   "metadata": {
    "colab_type": "text",
    "id": "mIGn_wjy4Gff"
   },
   "source": [
    "### Initialize variables used by training"
   ]
  },
  {
   "cell_type": "code",
   "execution_count": 0,
   "metadata": {
    "colab": {},
    "colab_type": "code",
    "id": "FfnWr3374R8P"
   },
   "outputs": [],
   "source": [
    "# Units used by dense layers\n",
    "units = 512\n",
    "# Batch size\n",
    "BATCH_SIZE = 64\n",
    "# Number of batches\n",
    "steps_per_epoch = count_data(train_parsed_image_dataset) // BATCH_SIZE\n",
    "# Number of image vertical strips\n",
    "NR_STRIPS = 5\n",
    "# Initialize encoder\n",
    "encoder = Encoder()\n",
    "# Initialize decoder\n",
    "decoder = Decoder(units, BATCH_SIZE)\n",
    "# Initialize first iteration values for the network: hidden states and decoder input\n",
    "initial_dec_hidden = tf.zeros((BATCH_SIZE, units))\n",
    "initial_dec_input = tf.zeros((BATCH_SIZE, 1, 11))"
   ]
  },
  {
   "cell_type": "markdown",
   "metadata": {
    "colab_type": "text",
    "id": "fr6Ymncy1iNa"
   },
   "source": [
    "### Define train step, predict and evaluate functions"
   ]
  },
  {
   "cell_type": "code",
   "execution_count": 0,
   "metadata": {
    "colab": {},
    "colab_type": "code",
    "id": "0Mk00otWBW0p"
   },
   "outputs": [],
   "source": [
    "# Function that convert a dataset object to tensor\n",
    "def convert_dataset_tensor(dataset):\n",
    "    input_tensor = []\n",
    "    target_tensor = []\n",
    "    for (i, (inputs, targ)) in enumerate(dataset):\n",
    "        input_tensor.append(inputs)\n",
    "        target_tensor.append(targ)\n",
    "    return tf.convert_to_tensor(input_tensor), tf.convert_to_tensor(target_tensor)"
   ]
  },
  {
   "cell_type": "code",
   "execution_count": 0,
   "metadata": {
    "colab": {},
    "colab_type": "code",
    "id": "Fv8xlv7tovH4"
   },
   "outputs": [],
   "source": [
    "# Define train step, with graph signature, to be used for each batch\n",
    "@tf.function\n",
    "def train_step(inp, targ, BATCH_SIZE, NR_STRIPS):\n",
    "    loss = 0\n",
    "    with tf.GradientTape() as tape:\n",
    "        # Get encoder output by executing its call function\n",
    "        enc_output = encoder(inp)\n",
    "        # Split encoder output into several vertical strips\n",
    "        enc_output_splitted = split_tensor(enc_output, NR_STRIPS)\n",
    "        # Reshape image data into a vector\n",
    "        enc_output_splitted = tf.reshape(enc_output_splitted, (BATCH_SIZE, NR_STRIPS, 8 * 2 * 64))\n",
    "\n",
    "        dec_hidden = initial_dec_hidden\n",
    "        dec_input = initial_dec_input\n",
    "\n",
    "        # Teacher forcing - feeding the target as the next input\n",
    "        for t in range(0, targ.shape[1]):\n",
    "            # Get decoder outputs (prediction, dec_hidden, attention_weights) by executing its call function\n",
    "            predictions, dec_hidden, attention_weights = decoder(dec_input, dec_hidden, enc_output_splitted)\n",
    "            # Get one hot encoding for targets of the batch and the current timestep\n",
    "            target_one_hot = tf.one_hot(targ[:, t], 11, axis=-1)\n",
    "            # Accumulate training loss\n",
    "            loss += loss_function(target_one_hot, predictions)\n",
    "            # Reverse one hot encoding for predictions\n",
    "            pred = tf.argmax(predictions,1)\n",
    "            # Accumulate training accuracy\n",
    "            _ = accuracy.update_state(y_true=targ[:, t], y_pred=pred)\n",
    "            # Update the decoder inputs variable for the next iteration\n",
    "            dec_input = tf.expand_dims(target_one_hot, 1)\n",
    "\n",
    "    # Get final training loss by computing the average\n",
    "    batch_loss = (loss / int(targ.shape[1]))\n",
    "    # Get final training accuracy from keras\n",
    "    batch_accuracy = accuracy.result().numpy()\n",
    "    # Get all trackable variables\n",
    "    variables = encoder.trainable_variables + decoder.trainable_variables\n",
    "    # Compute the gradients\n",
    "    gradients = tape.gradient(loss, variables)\n",
    "    # Apply the gradients to the network units\n",
    "    optimizer.apply_gradients(zip(gradients, variables))\n",
    "\n",
    "    return batch_loss, batch_accuracy\n",
    "\n",
    "# Predict function receives a tensor with shape (BATCH_SIZE,48,64,3)\n",
    "def predict(input_tensor):\n",
    "    # Variable that aggregates all predictions\n",
    "    all_preds = []\n",
    "    # Get encoder output by executing its call function\n",
    "    enc_output = encoder(input_tensor)\n",
    "    # Split encoder output into several vertical strips\n",
    "    enc_output_splitted = split_tensor(enc_output, NR_STRIPS)\n",
    "    # Reshape image data into a vector\n",
    "    enc_output_splitted = tf.reshape(enc_output_splitted, (BATCH_SIZE, NR_STRIPS, 8 * 2 * 64))\n",
    "\n",
    "    dec_hidden = initial_dec_hidden\n",
    "    dec_input = initial_dec_input\n",
    "\n",
    "    # Array that will contain every prediction for the all the timesteps\n",
    "    all_predictions = []\n",
    "\n",
    "    # Without Teacher forcing - feeding the predition as the next input\n",
    "    for t in range(0, 6):\n",
    "\n",
    "        # Get decoder outputs (prediction, dec_hidden, attention_weights) by executing its call function\n",
    "        predictions, dec_hidden, attention_weights = decoder(dec_input, dec_hidden, enc_output_splitted)\n",
    "        # Reverse one hot encoding for predictions\n",
    "        pred = tf.argmax(predictions,1)\n",
    "        # Update the decoder inputs variable for the next iteration\n",
    "        dec_input = tf.expand_dims(predictions, 1)\n",
    "        # Append prediction to array\n",
    "        all_predictions.append(pred)\n",
    "\n",
    "    # Get tuples with all corresponding digits referring to an image\n",
    "    zipped_preds = tuple(zip(all_predictions[0].numpy(), all_predictions[1].numpy(), all_predictions[2].numpy(), all_predictions[3].numpy(), all_predictions[4].numpy(), all_predictions[5].numpy()))\n",
    "    # Put the predictions in the final array without nested images\n",
    "    all_preds.extend(zipped_preds)\n",
    "    # Array to Tensor\n",
    "    all_preds = tf.convert_to_tensor(all_preds, dtype=None, dtype_hint=None, name=None)\n",
    "\n",
    "    return all_preds\n",
    "\n",
    "# Predict function receives a tensor with shape (BATCH_SIZE,48,64,3) with teacher forcing\n",
    "# Unlike the predict function, this one is meant to receive a dataset object\n",
    "def predict_with_teacher_forcing(batched_dataset):\n",
    "    # Variable that aggregates all predictions\n",
    "    all_preds = []\n",
    "    # Iterate every batch\n",
    "    for (batch, (inputs, targ)) in enumerate(batched_dataset.take(steps_per_epoch)):\n",
    "\n",
    "        # Get encoder output by executing its call function\n",
    "        enc_output = encoder(inputs)\n",
    "        # Split encoder output into several vertical strips\n",
    "        enc_output_splitted = split_tensor(enc_output, NR_STRIPS)\n",
    "        # Reshape image data into a vector\n",
    "        enc_output_splitted = tf.reshape(enc_output_splitted, (BATCH_SIZE, NR_STRIPS, 8 * 2 * 64))\n",
    "\n",
    "        dec_hidden = initial_dec_hidden\n",
    "        dec_input = initial_dec_input\n",
    "\n",
    "        # Array that will contain every prediction for the all the timesteps\n",
    "        all_predictions = []\n",
    "\n",
    "        # Teacher forcing - feeding the target as the next input\n",
    "        for t in range(0, targ.shape[1]):\n",
    "            # Get decoder outputs (prediction, dec_hidden, attention_weights) by executing its call function\n",
    "            predictions, dec_hidden, _ = decoder(dec_input, dec_hidden, enc_output_splitted)\n",
    "            # Reverse one hot encoding for predictions\n",
    "            pred = tf.argmax(predictions,1)\n",
    "            # Get one hot encoding for the target\n",
    "            target_one_hot = tf.one_hot(targ[:, t], 11, axis=-1)\n",
    "            # Update the decoder inputs variable for the next iteration\n",
    "            dec_input = tf.expand_dims(target_one_hot, 1)\n",
    "            # Append prediction to array\n",
    "            all_predictions.append(pred)\n",
    "\n",
    "        # Get tuples with all corresponding digits referring to an image\n",
    "        zipped_preds = tuple(zip(all_predictions[0].numpy(), all_predictions[1].numpy(), all_predictions[2].numpy(), all_predictions[3].numpy(), all_predictions[4].numpy(), all_predictions[5].numpy()))\n",
    "        # Put the predictions in the final array without nested images\n",
    "        all_preds.extend(zipped_preds)\n",
    "    # Array to Tensor - Batch format\n",
    "    all_preds = tf.convert_to_tensor(all_preds, dtype=None, dtype_hint=None, name=None)\n",
    "\n",
    "    return all_preds\n",
    "\n",
    "# Evaluate function that receives a dataset object and returns the average loss and accuracy\n",
    "def evaluate(dataset, is_validation = False):\n",
    "    # Get the dateset batched\n",
    "    dataset_batched = dataset.batch(BATCH_SIZE, drop_remainder=True)\n",
    "    # If it is a validation case for the train, use teacher forcing\n",
    "    # If not, do not use teacher forcing and create batches as tensors for the predict call\n",
    "    if is_validation:\n",
    "        # Get predictions using teacher forcing\n",
    "        predictions = predict_with_teacher_forcing(dataset_batched)\n",
    "    else:\n",
    "        # Get input and labels tensors\n",
    "        dataset_input, dataset_target = convert_dataset_tensor(dataset)\n",
    "        # Iterate through the dataset\n",
    "        iterator = iter(dataset.batch(BATCH_SIZE))\n",
    "        # Get first image and label\n",
    "        image, label = next(iterator)\n",
    "        size_dataset = count_data(dataset)\n",
    "        # Get limit for while\n",
    "        limit = size_dataset // BATCH_SIZE\n",
    "        # Array that will contain predictions as batches\n",
    "        all_preds = []\n",
    "        count = 0\n",
    "        while (count < limit):\n",
    "            count += 1\n",
    "            # Get prediction\n",
    "            predictions = predict(image)\n",
    "            all_preds.append(predictions)\n",
    "            image, label = next(iterator)\n",
    "\n",
    "        # Convert the array to a tensor\n",
    "        predictions = tf.convert_to_tensor(all_preds)\n",
    "\n",
    "    # Variables to loss and accuracy calculation\n",
    "    total_loss = 0\n",
    "    total_accuracy = 0\n",
    "    # Reset accuracy object states\n",
    "    accuracy.reset_states()\n",
    "    count = 0\n",
    "    # Try is in case an exception is raised due to the remaining images not batched, when it is not a validation case\n",
    "    try:\n",
    "        dataset_it = dataset_batched\n",
    "        # If is a validation case then there use the whole dataset and not the batched one\n",
    "        if is_validation : dataset_it = dataset\n",
    "        for (i, (inputs, targ)) in enumerate(dataset_it):\n",
    "            count += 1\n",
    "            total_loss += loss_function(tf.one_hot(targ, 11, axis=-1), tf.one_hot(predictions[i], 11, axis=-1))\n",
    "            _ = accuracy.update_state(y_true=targ, y_pred=predictions[i])\n",
    "    except:\n",
    "        total_loss = total_loss / count\n",
    "        total_accuracy = accuracy.result()\n",
    "        return total_loss.numpy(), total_accuracy.numpy()\n",
    "\n",
    "    # Compute the average for the loss and accuracy\n",
    "    total_loss = total_loss / count\n",
    "    total_accuracy = accuracy.result()\n",
    "    return total_loss.numpy(), total_accuracy.numpy()\n"
   ]
  },
  {
   "cell_type": "markdown",
   "metadata": {
    "colab_type": "text",
    "id": "w70M9MLVNgNO"
   },
   "source": [
    "### Training Loop"
   ]
  },
  {
   "cell_type": "code",
   "execution_count": 0,
   "metadata": {
    "colab": {
     "base_uri": "https://localhost:8080/",
     "height": 1000
    },
    "colab_type": "code",
    "id": "O0bipPEXpjv_",
    "outputId": "e0d9a7ba-5dd7-4d58-a28e-901fbf0e9a21"
   },
   "outputs": [
    {
     "name": "stdout",
     "output_type": "stream",
     "text": [
      "Epoch 1 Batch 0 Loss 2.4002 Accuracy 0.0599\n",
      "Epoch 1 Batch 100 Loss 1.3357 Accuracy 0.5667\n",
      "Epoch 1 Batch 200 Loss 1.0830 Accuracy 0.5914\n",
      "Epoch 1 Batch 300 Loss 1.0376 Accuracy 0.6039\n",
      "Epoch 1 Batch 400 Loss 1.0272 Accuracy 0.6115\n",
      "Epoch 1 Batch 500 Loss 1.0062 Accuracy 0.6179\n",
      "Epoch 1 Batch 600 Loss 0.9860 Accuracy 0.6236\n",
      "Epoch 1 Batch 700 Loss 0.9260 Accuracy 0.6300\n",
      "Epoch 1 Batch 800 Loss 0.9321 Accuracy 0.6370\n",
      "Epoch 1 Batch 900 Loss 0.8800 Accuracy 0.6442\n",
      "Epoch 1 Batch 1000 Loss 0.7776 Accuracy 0.6542\n",
      "Epoch 1 Batch 1100 Loss 0.7228 Accuracy 0.6647\n",
      "Epoch 1 Batch 1200 Loss 0.6038 Accuracy 0.6755\n",
      "Epoch 1 Batch 1300 Loss 0.6717 Accuracy 0.6856\n",
      "Epoch 1 Batch 1400 Loss 0.5524 Accuracy 0.6957\n",
      "Epoch 1 Batch 1500 Loss 0.4203 Accuracy 0.7050\n",
      "Epoch 1 Batch 1600 Loss 0.5065 Accuracy 0.7140\n",
      "Epoch 1 Batch 1700 Loss 0.4455 Accuracy 0.7225\n",
      "Epoch 1 Batch 1800 Loss 0.4244 Accuracy 0.7304\n",
      "Epoch 1 Batch 1900 Loss 0.3667 Accuracy 0.7381\n",
      "Epoch 1 Loss 0.8068 Accuracy 0.6542\n",
      "Time taken for 1 epoch 487.1292164325714 sec\n",
      "\n",
      "all_losses_val [1.9770771]\n",
      "all_accuracy_val [0.56572294]\n",
      "all_losses_train [0.8068149661229662]\n",
      "all_accuracy_train [0.6541512964989928]\n",
      "Epoch 2 Batch 0 Loss 0.3711 Accuracy 0.8906\n",
      "Epoch 2 Batch 100 Loss 0.4646 Accuracy 0.8765\n",
      "Epoch 2 Batch 200 Loss 0.4375 Accuracy 0.8810\n",
      "Epoch 2 Batch 300 Loss 0.4731 Accuracy 0.8840\n",
      "Epoch 2 Batch 400 Loss 0.3804 Accuracy 0.8853\n",
      "Epoch 2 Batch 500 Loss 0.3545 Accuracy 0.8872\n",
      "Epoch 2 Batch 600 Loss 0.3433 Accuracy 0.8890\n",
      "Epoch 2 Batch 700 Loss 0.3883 Accuracy 0.8909\n",
      "Epoch 2 Batch 800 Loss 0.3420 Accuracy 0.8924\n",
      "Epoch 2 Batch 900 Loss 0.3249 Accuracy 0.8937\n",
      "Epoch 2 Batch 1000 Loss 0.2263 Accuracy 0.8953\n",
      "Epoch 2 Batch 1100 Loss 0.3233 Accuracy 0.8969\n",
      "Epoch 2 Batch 1200 Loss 0.3229 Accuracy 0.8981\n",
      "Epoch 2 Batch 1300 Loss 0.2754 Accuracy 0.8994\n",
      "Epoch 2 Batch 1400 Loss 0.2791 Accuracy 0.8999\n",
      "Epoch 2 Batch 1500 Loss 0.2413 Accuracy 0.9008\n",
      "Epoch 2 Batch 1600 Loss 0.2429 Accuracy 0.9017\n",
      "Epoch 2 Batch 1700 Loss 0.1998 Accuracy 0.9026\n",
      "Epoch 2 Batch 1800 Loss 0.2062 Accuracy 0.9038\n",
      "Epoch 2 Batch 1900 Loss 0.2263 Accuracy 0.9047\n",
      "Epoch 2 Loss 0.3127 Accuracy 0.8931\n",
      "Time taken for 1 epoch 481.6734881401062 sec\n",
      "\n",
      "all_losses_val [1.9770771, 1.9781653]\n",
      "all_accuracy_val [0.56572294, 0.5646414]\n",
      "all_losses_train [0.8068149661229662, 0.3127311832648664]\n",
      "all_accuracy_train [0.6541512964989928, 0.8931262351203063]\n",
      "Epoch 3 Batch 0 Loss 0.2994 Accuracy 0.9245\n",
      "Epoch 3 Batch 100 Loss 0.2682 Accuracy 0.9243\n",
      "Epoch 3 Batch 200 Loss 0.1834 Accuracy 0.9246\n",
      "Epoch 3 Batch 300 Loss 0.2275 Accuracy 0.9254\n",
      "Epoch 3 Batch 400 Loss 0.2242 Accuracy 0.9258\n",
      "Epoch 3 Batch 500 Loss 0.2361 Accuracy 0.9261\n",
      "Epoch 3 Batch 600 Loss 0.2497 Accuracy 0.9267\n",
      "Epoch 3 Batch 700 Loss 0.1867 Accuracy 0.9270\n",
      "Epoch 3 Batch 800 Loss 0.1757 Accuracy 0.9276\n",
      "Epoch 3 Batch 900 Loss 0.2088 Accuracy 0.9279\n",
      "Epoch 3 Batch 1000 Loss 0.2347 Accuracy 0.9286\n",
      "Epoch 3 Batch 1100 Loss 0.1625 Accuracy 0.9293\n",
      "Epoch 3 Batch 1200 Loss 0.2224 Accuracy 0.9297\n",
      "Epoch 3 Batch 1300 Loss 0.1605 Accuracy 0.9300\n",
      "Epoch 3 Batch 1400 Loss 0.2481 Accuracy 0.9303\n",
      "Epoch 3 Batch 1500 Loss 0.1961 Accuracy 0.9307\n",
      "Epoch 3 Batch 1600 Loss 0.1721 Accuracy 0.9312\n",
      "Epoch 3 Batch 1700 Loss 0.1410 Accuracy 0.9316\n",
      "Epoch 3 Batch 1800 Loss 0.2303 Accuracy 0.9321\n",
      "Epoch 3 Batch 1900 Loss 0.1490 Accuracy 0.9325\n",
      "Epoch 3 Loss 0.2231 Accuracy 0.9282\n",
      "Time taken for 1 epoch 490.8320891857147 sec\n",
      "\n",
      "all_losses_val [1.9770771, 1.9781653, 1.9833051]\n",
      "all_accuracy_val [0.56572294, 0.5646414, 0.55950844]\n",
      "all_losses_train [0.8068149661229662, 0.3127311832648664, 0.2230595202485392]\n",
      "all_accuracy_train [0.6541512964989928, 0.8931262351203063, 0.9281789548079337]\n",
      "Epoch 4 Batch 0 Loss 0.1908 Accuracy 0.9427\n",
      "Epoch 4 Batch 100 Loss 0.1861 Accuracy 0.9413\n",
      "Epoch 4 Batch 200 Loss 0.2026 Accuracy 0.9423\n",
      "Epoch 4 Batch 300 Loss 0.2610 Accuracy 0.9422\n",
      "Epoch 4 Batch 400 Loss 0.1786 Accuracy 0.9422\n",
      "Epoch 4 Batch 500 Loss 0.0970 Accuracy 0.9419\n",
      "Epoch 4 Batch 600 Loss 0.1468 Accuracy 0.9420\n",
      "Epoch 4 Batch 700 Loss 0.1717 Accuracy 0.9425\n",
      "Epoch 4 Batch 800 Loss 0.2059 Accuracy 0.9429\n",
      "Epoch 4 Batch 900 Loss 0.1295 Accuracy 0.9429\n",
      "Epoch 4 Batch 1000 Loss 0.2628 Accuracy 0.9434\n",
      "Epoch 4 Batch 1100 Loss 0.1182 Accuracy 0.9440\n",
      "Epoch 4 Batch 1200 Loss 0.1931 Accuracy 0.9442\n",
      "Epoch 4 Batch 1300 Loss 0.2085 Accuracy 0.9445\n",
      "Epoch 4 Batch 1400 Loss 0.2183 Accuracy 0.9446\n",
      "Epoch 4 Batch 1500 Loss 0.1602 Accuracy 0.9448\n",
      "Epoch 4 Batch 1600 Loss 0.1823 Accuracy 0.9451\n",
      "Epoch 4 Batch 1700 Loss 0.1250 Accuracy 0.9453\n",
      "Epoch 4 Batch 1800 Loss 0.1190 Accuracy 0.9457\n",
      "Epoch 4 Batch 1900 Loss 0.2093 Accuracy 0.9461\n",
      "Epoch 4 Loss 0.1793 Accuracy 0.9434\n",
      "Time taken for 1 epoch 493.5752167701721 sec\n",
      "\n",
      "all_losses_val [1.9770771, 1.9781653, 1.9833051, 1.9864075]\n",
      "all_accuracy_val [0.56572294, 0.5646414, 0.55950844, 0.55641466]\n",
      "all_losses_train [0.8068149661229662, 0.3127311832648664, 0.2230595202485392, 0.17928867497720008]\n",
      "all_accuracy_train [0.6541512964989928, 0.8931262351203063, 0.9281789548079337, 0.9434255347702621]\n",
      "Epoch 5 Batch 0 Loss 0.2639 Accuracy 0.9349\n",
      "Epoch 5 Batch 100 Loss 0.1530 Accuracy 0.9509\n",
      "Epoch 5 Batch 200 Loss 0.1462 Accuracy 0.9511\n",
      "Epoch 5 Batch 300 Loss 0.1653 Accuracy 0.9519\n",
      "Epoch 5 Batch 400 Loss 0.1738 Accuracy 0.9512\n",
      "Epoch 5 Batch 500 Loss 0.1754 Accuracy 0.9514\n",
      "Epoch 5 Batch 600 Loss 0.1552 Accuracy 0.9519\n",
      "Epoch 5 Batch 700 Loss 0.1800 Accuracy 0.9521\n",
      "Epoch 5 Batch 800 Loss 0.1634 Accuracy 0.9523\n",
      "Epoch 5 Batch 900 Loss 0.1454 Accuracy 0.9525\n",
      "Epoch 5 Batch 1000 Loss 0.1996 Accuracy 0.9528\n",
      "Epoch 5 Batch 1100 Loss 0.1651 Accuracy 0.9532\n",
      "Epoch 5 Batch 1200 Loss 0.1933 Accuracy 0.9534\n",
      "Epoch 5 Batch 1300 Loss 0.0854 Accuracy 0.9534\n",
      "Epoch 5 Batch 1400 Loss 0.1619 Accuracy 0.9535\n",
      "Epoch 5 Batch 1500 Loss 0.1153 Accuracy 0.9536\n",
      "Epoch 5 Batch 1600 Loss 0.0980 Accuracy 0.9538\n",
      "Epoch 5 Batch 1700 Loss 0.0613 Accuracy 0.9539\n",
      "Epoch 5 Batch 1800 Loss 0.1439 Accuracy 0.9541\n",
      "Epoch 5 Batch 1900 Loss 0.1258 Accuracy 0.9543\n",
      "Epoch 5 Loss 0.1509 Accuracy 0.9526\n",
      "Time taken for 1 epoch 494.2817449569702 sec\n",
      "\n",
      "all_losses_val [1.9770771, 1.9781653, 1.9833051, 1.9864075, 1.9829618]\n",
      "all_accuracy_val [0.56572294, 0.5646414, 0.55950844, 0.55641466, 0.5598528]\n",
      "all_losses_train [0.8068149661229662, 0.3127311832648664, 0.2230595202485392, 0.17928867497720008, 0.15085742099226013]\n",
      "all_accuracy_train [0.6541512964989928, 0.8931262351203063, 0.9281789548079337, 0.9434255347702621, 0.9525830432280036]\n",
      "Epoch 6 Batch 0 Loss 0.1297 Accuracy 0.9557\n",
      "Epoch 6 Batch 100 Loss 0.1526 Accuracy 0.9573\n",
      "Epoch 6 Batch 200 Loss 0.1536 Accuracy 0.9593\n",
      "Epoch 6 Batch 300 Loss 0.1909 Accuracy 0.9595\n",
      "Epoch 6 Batch 400 Loss 0.1299 Accuracy 0.9599\n",
      "Epoch 6 Batch 500 Loss 0.1287 Accuracy 0.9596\n",
      "Epoch 6 Batch 600 Loss 0.1023 Accuracy 0.9595\n",
      "Epoch 6 Batch 700 Loss 0.1116 Accuracy 0.9596\n",
      "Epoch 6 Batch 800 Loss 0.1333 Accuracy 0.9597\n",
      "Epoch 6 Batch 900 Loss 0.0867 Accuracy 0.9599\n",
      "Epoch 6 Batch 1000 Loss 0.1072 Accuracy 0.9601\n",
      "Epoch 6 Batch 1100 Loss 0.0780 Accuracy 0.9604\n",
      "Epoch 6 Batch 1200 Loss 0.1038 Accuracy 0.9605\n",
      "Epoch 6 Batch 1300 Loss 0.1035 Accuracy 0.9607\n",
      "Epoch 6 Batch 1400 Loss 0.1320 Accuracy 0.9607\n",
      "Epoch 6 Batch 1500 Loss 0.1242 Accuracy 0.9609\n",
      "Epoch 6 Batch 1600 Loss 0.1812 Accuracy 0.9612\n",
      "Epoch 6 Batch 1700 Loss 0.1253 Accuracy 0.9613\n",
      "Epoch 6 Batch 1800 Loss 0.1703 Accuracy 0.9615\n",
      "Epoch 6 Batch 1900 Loss 0.1910 Accuracy 0.9616\n",
      "Epoch 6 Loss 0.1274 Accuracy 0.9601\n",
      "Time taken for 1 epoch 494.0888342857361 sec\n",
      "\n",
      "all_losses_val [1.9770771, 1.9781653, 1.9833051, 1.9864075, 1.9829618, 1.9838011]\n",
      "all_accuracy_val [0.56572294, 0.5646414, 0.55950844, 0.55641466, 0.5598528, 0.5590134]\n",
      "all_losses_train [0.8068149661229662, 0.3127311832648664, 0.2230595202485392, 0.17928867497720008, 0.15085742099226013, 0.12736924226618995]\n",
      "all_accuracy_train [0.6541512964989928, 0.8931262351203063, 0.9281789548079337, 0.9434255347702621, 0.9525830432280036, 0.9601393248116182]\n"
     ]
    }
   ],
   "source": [
    "# Number of epochs\n",
    "EPOCHS = 6\n",
    "# Get a batched dataset\n",
    "train_parsed_image_dataset_batched = train_parsed_image_dataset.batch(BATCH_SIZE, drop_remainder=True)\n",
    "\n",
    "# Initialize arrays for losses and accuracy values, both for training and validation\n",
    "all_losses_train = []\n",
    "all_accuracy_train = []\n",
    "all_losses_val = []\n",
    "all_accuracy_val = []\n",
    "\n",
    "# Iterate for the epochs\n",
    "for epoch in range(EPOCHS):\n",
    "    start = time.time()\n",
    "    total_loss = 0\n",
    "    total_accuracy = 0\n",
    "    # Reset accuracy object states\n",
    "    accuracy.reset_states()\n",
    "    train_parsed_image_dataset_took = train_parsed_image_dataset_batched.take(steps_per_epoch)\n",
    "    # Iterate the batches\n",
    "    for (batch, (inp, targ)) in enumerate(train_parsed_image_dataset_took):\n",
    "        # Apply a training step for the batch\n",
    "        batch_loss, batch_accuracy = train_step(inp, targ, BATCH_SIZE, NR_STRIPS)\n",
    "        total_loss += batch_loss\n",
    "        total_accuracy += batch_accuracy\n",
    "\n",
    "        # Sometimes print results\n",
    "        if batch % 100 == 0:\n",
    "            print('Epoch {} Batch {} Loss {:.4f} Accuracy {:.4f}'.format(epoch + 1, batch, batch_loss.numpy(), batch_accuracy))\n",
    "\n",
    "    # Get the validation loss and accuracy by calling the evaluate function\n",
    "    val_loss, val_accuracy = evaluate(valid_parsed_image_dataset, is_validation = True)\n",
    "    # Append validation values\n",
    "    all_losses_val.append(val_loss)\n",
    "    all_accuracy_val.append(val_accuracy)\n",
    "\n",
    "    # Append training values\n",
    "    all_losses_train.append(total_loss.numpy() / steps_per_epoch)\n",
    "    all_accuracy_train.append(total_accuracy / steps_per_epoch)\n",
    "\n",
    "    print('Epoch {} Loss {:.4f} Accuracy {:.4f}'.format(epoch + 1, total_loss / steps_per_epoch, total_accuracy / steps_per_epoch))\n",
    "    print('Time taken for 1 epoch {} sec\\n'.format(time.time() - start))\n",
    "\n",
    "    print(\"all_losses_val\", all_losses_val)\n",
    "    print(\"all_accuracy_val\", all_accuracy_val)\n",
    "    print(\"all_losses_train\", all_losses_train)\n",
    "    print(\"all_accuracy_train\", all_accuracy_train)\n"
   ]
  },
  {
   "cell_type": "markdown",
   "metadata": {
    "colab_type": "text",
    "id": "rZvsNwToPOSj"
   },
   "source": [
    "## Results"
   ]
  },
  {
   "cell_type": "markdown",
   "metadata": {
    "colab_type": "text",
    "id": "e7S3QvnBL-h8"
   },
   "source": [
    "### Plot loss and accuracy"
   ]
  },
  {
   "cell_type": "code",
   "execution_count": 0,
   "metadata": {
    "colab": {
     "base_uri": "https://localhost:8080/",
     "height": 265
    },
    "colab_type": "code",
    "id": "EZDYG-YWCtl2",
    "outputId": "53214979-78ec-4ff2-8953-a20cd85f6962"
   },
   "outputs": [
    {
     "data": {
      "image/png": "[encoded data removed]",
      "text/plain": [
       "<Figure size 432x288 with 1 Axes>"
      ]
     },
     "metadata": {
      "needs_background": "light",
      "tags": []
     },
     "output_type": "display_data"
    }
   ],
   "source": [
    "f, ax = plt.subplots(1)\n",
    "ax.plot(all_losses_train,'b',label='Training Loss')\n",
    "ax.plot(all_losses_val,'r',label='Validation Loss')\n",
    "ax.legend()\n",
    "plt.show(f)"
   ]
  },
  {
   "cell_type": "code",
   "execution_count": 0,
   "metadata": {
    "colab": {
     "base_uri": "https://localhost:8080/",
     "height": 265
    },
    "colab_type": "code",
    "id": "sQBupxEhCxjF",
    "outputId": "b02cf83a-1823-4d5a-c3e5-5a8edbf9e603"
   },
   "outputs": [
    {
     "data": {
      "image/png": "[encoded data removed]",
      "text/plain": [
       "<Figure size 432x288 with 1 Axes>"
      ]
     },
     "metadata": {
      "needs_background": "light",
      "tags": []
     },
     "output_type": "display_data"
    }
   ],
   "source": [
    "f, ax = plt.subplots(1)\n",
    "ax.plot(all_accuracy_train,'b',label='Training Accuracy')\n",
    "ax.plot(all_accuracy_val,'r',label='Validation Accuracy')\n",
    "ax.legend()\n",
    "plt.show(f)"
   ]
  },
  {
   "cell_type": "markdown",
   "metadata": {
    "colab_type": "text",
    "id": "yG9UJL2PckAy"
   },
   "source": [
    "## Test Network\n",
    "\n"
   ]
  },
  {
   "cell_type": "code",
   "execution_count": 0,
   "metadata": {
    "colab": {
     "base_uri": "https://localhost:8080/",
     "height": 35
    },
    "colab_type": "code",
    "id": "4YfMOayhcjTz",
    "outputId": "a399d990-76b8-4ef3-8b3d-224370604662"
   },
   "outputs": [
    {
     "data": {
      "text/plain": [
       "(2.3246653, 0.21837874)"
      ]
     },
     "execution_count": 28,
     "metadata": {
      "tags": []
     },
     "output_type": "execute_result"
    }
   ],
   "source": [
    "evaluate(test_parsed_image_dataset)"
   ]
  },
  {
   "cell_type": "code",
   "execution_count": 0,
   "metadata": {
    "colab": {},
    "colab_type": "code",
    "id": "ZC6mtv5qpcXT"
   },
   "outputs": [],
   "source": []
  }
 ],
 "metadata": {
  "accelerator": "GPU",
  "colab": {
   "collapsed_sections": [],
   "machine_shape": "hm",
   "name": "task_3.ipynb",
   "provenance": []
  },
  "kernelspec": {
   "display_name": "Python 3",
   "language": "python",
   "name": "python3"
  },
  "language_info": {
   "codemirror_mode": {
    "name": "ipython",
    "version": 3
   },
   "file_extension": ".py",
   "mimetype": "text/x-python",
   "name": "python",
   "nbconvert_exporter": "python",
   "pygments_lexer": "ipython3",
   "version": "3.7.6"
  }
 },
 "nbformat": 4,
 "nbformat_minor": 1
}
