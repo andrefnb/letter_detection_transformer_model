{
 "cells": [
  {
   "cell_type": "markdown",
   "metadata": {
    "colab_type": "text",
    "id": "T5DbrKjfekGF"
   },
   "source": [
    "# ADNE - Task 1\n",
    "\n",
    "- André Bastos, nº 56969\n",
    "- Rafaela Cruz, nº 56926\n",
    "\n",
    "Tensorflow version: 2.2.0"
   ]
  },
  {
   "cell_type": "markdown",
   "metadata": {
    "colab_type": "text",
    "id": "oTmHyFz6ORrG"
   },
   "source": [
    "## Imports"
   ]
  },
  {
   "cell_type": "code",
   "execution_count": 0,
   "metadata": {
    "colab": {},
    "colab_type": "code",
    "id": "FdSmtD4ct1z3"
   },
   "outputs": [],
   "source": [
    "%tensorflow_version 2.x"
   ]
  },
  {
   "cell_type": "code",
   "execution_count": 0,
   "metadata": {
    "colab": {
     "base_uri": "https://localhost:8080/",
     "height": 35
    },
    "colab_type": "code",
    "executionInfo": {
     "elapsed": 2879,
     "status": "ok",
     "timestamp": 1589435442271,
     "user": {
      "displayName": "Rafaela Cruz",
      "photoUrl": "",
      "userId": "01641095877604853393"
     },
     "user_tz": -60
    },
    "id": "TFyBN0_Txn7n",
    "outputId": "b448d5ac-12fa-48c7-efa2-0e73c20ac226"
   },
   "outputs": [
    {
     "name": "stdout",
     "output_type": "stream",
     "text": [
      "2.2.0\n"
     ]
    }
   ],
   "source": [
    "import os\n",
    "import numpy as np\n",
    "import matplotlib.pyplot as plt\n",
    "from shutil import copy\n",
    "\n",
    "import IPython.display as display\n",
    "\n",
    "import tensorflow as tf\n",
    "from tensorflow import keras\n",
    "from tensorflow.keras.optimizers import Adam\n",
    "from tensorflow.keras.models import Model\n",
    "from tensorflow.keras.layers import Input, BatchNormalization, Conv2D, Dense, Reshape\n",
    "from tensorflow.keras.layers import MaxPooling2D, Activation, Flatten, Dropout, LeakyReLU\n",
    "\n",
    "print(tf.__version__)"
   ]
  },
  {
   "cell_type": "markdown",
   "metadata": {
    "colab_type": "text",
    "id": "96lXhPlPsx8k"
   },
   "source": [
    "### Import data from Drive"
   ]
  },
  {
   "cell_type": "code",
   "execution_count": 0,
   "metadata": {
    "cellView": "both",
    "colab": {
     "base_uri": "https://localhost:8080/",
     "height": 124
    },
    "colab_type": "code",
    "executionInfo": {
     "elapsed": 42838,
     "status": "ok",
     "timestamp": 1589435487667,
     "user": {
      "displayName": "Rafaela Cruz",
      "photoUrl": "",
      "userId": "01641095877604853393"
     },
     "user_tz": -60
    },
    "id": "zEnfN6iAt6zT",
    "outputId": "8a4b6ea6-a278-4d06-f013-0e119bc9169f"
   },
   "outputs": [
    {
     "name": "stdout",
     "output_type": "stream",
     "text": [
      "Go to this URL in a browser: https://accounts.google.com/o/oauth2/auth?client_id=947318989803-6bn6qk8qdgf4n4g3pfee6491hc0brc4i.apps.googleusercontent.com&redirect_uri=urn%3aietf%3awg%3aoauth%3a2.0%3aoob&response_type=code&scope=email%20https%3a%2f%2fwww.googleapis.com%2fauth%2fdocs.test%20https%3a%2f%2fwww.googleapis.com%2fauth%2fdrive%20https%3a%2f%2fwww.googleapis.com%2fauth%2fdrive.photos.readonly%20https%3a%2f%2fwww.googleapis.com%2fauth%2fpeopleapi.readonly\n",
      "\n",
      "Enter your authorization code:\n",
      "··········\n",
      "Mounted at /content/google-drive\n"
     ]
    }
   ],
   "source": [
    "from google.colab import drive\n",
    "drive.mount('/content/google-drive')"
   ]
  },
  {
   "cell_type": "markdown",
   "metadata": {
    "colab_type": "text",
    "id": "Qi9XDCicekGb"
   },
   "source": [
    "## Copying tfrecords from drive to colab"
   ]
  },
  {
   "cell_type": "code",
   "execution_count": 0,
   "metadata": {
    "colab": {
     "base_uri": "https://localhost:8080/",
     "height": 260
    },
    "colab_type": "code",
    "executionInfo": {
     "elapsed": 347366,
     "status": "ok",
     "timestamp": 1589435835938,
     "user": {
      "displayName": "Rafaela Cruz",
      "photoUrl": "",
      "userId": "01641095877604853393"
     },
     "user_tz": -60
    },
    "id": "PnWRuxm3vnpv",
    "outputId": "a1cd7487-a65e-45e4-b6f0-59c9002d1ee4"
   },
   "outputs": [
    {
     "name": "stdout",
     "output_type": "stream",
     "text": [
      "images_gray_0.tfrecords   images_gray_22.tfrecords  images_gray_35.tfrecords\n",
      "images_gray_10.tfrecords  images_gray_23.tfrecords  images_gray_36.tfrecords\n",
      "images_gray_11.tfrecords  images_gray_24.tfrecords  images_gray_37.tfrecords\n",
      "images_gray_12.tfrecords  images_gray_25.tfrecords  images_gray_38.tfrecords\n",
      "images_gray_13.tfrecords  images_gray_26.tfrecords  images_gray_39.tfrecords\n",
      "images_gray_14.tfrecords  images_gray_27.tfrecords  images_gray_3.tfrecords\n",
      "images_gray_15.tfrecords  images_gray_28.tfrecords  images_gray_4.tfrecords\n",
      "images_gray_16.tfrecords  images_gray_29.tfrecords  images_gray_5.tfrecords\n",
      "images_gray_17.tfrecords  images_gray_2.tfrecords   images_gray_6.tfrecords\n",
      "images_gray_18.tfrecords  images_gray_30.tfrecords  images_gray_7.tfrecords\n",
      "images_gray_19.tfrecords  images_gray_31.tfrecords  images_gray_8.tfrecords\n",
      "images_gray_1.tfrecords   images_gray_32.tfrecords  images_gray_9.tfrecords\n",
      "images_gray_20.tfrecords  images_gray_33.tfrecords\n",
      "images_gray_21.tfrecords  images_gray_34.tfrecords\n"
     ]
    }
   ],
   "source": [
    "!mkdir trainData\n",
    "numbers_to_get = np.arange(0,40)\n",
    "for number in numbers_to_get:\n",
    "    name = \"/content/google-drive/My Drive/ADNE/data/images_gray_\" + str(number) + \".tfrecords\"\n",
    "    copy(name, \"./trainData/\")\n",
    "!ls trainData"
   ]
  },
  {
   "cell_type": "markdown",
   "metadata": {
    "colab_type": "text",
    "id": "Xw0oSmX1tBGM"
   },
   "source": [
    "## Create tfrecords dataset\n",
    "\n",
    "We divided the tfrecord files into three different datasets, which are meant for training, validation and testing.\n",
    "These sets were created using 75% of the total files for training, 12,5% for validation and 12,5% for testing."
   ]
  },
  {
   "cell_type": "code",
   "execution_count": 0,
   "metadata": {
    "colab": {},
    "colab_type": "code",
    "id": "7zSfRxebt10C"
   },
   "outputs": [],
   "source": [
    "tfrecordsDir = 'trainData/'\n",
    "trainNumbers = np.arange(0,40)\n",
    "trainfiles = [tfrecordsDir + 'images_gray_'+ str(i) + '.tfrecords' for i in trainNumbers]\n",
    "\n",
    "train_raw_image_dataset = tf.data.TFRecordDataset(trainfiles[:30])\n",
    "valid_raw_image_dataset = tf.data.TFRecordDataset(trainfiles[30:35])\n",
    "test_raw_image_dataset = tf.data.TFRecordDataset(trainfiles[35:])"
   ]
  },
  {
   "cell_type": "markdown",
   "metadata": {
    "colab_type": "text",
    "id": "6shaNKIh7oE3"
   },
   "source": [
    "We checked how many examples are each set:"
   ]
  },
  {
   "cell_type": "code",
   "execution_count": 0,
   "metadata": {
    "colab": {
     "base_uri": "https://localhost:8080/",
     "height": 35
    },
    "colab_type": "code",
    "executionInfo": {
     "elapsed": 12997,
     "status": "ok",
     "timestamp": 1589447281104,
     "user": {
      "displayName": "Rafaela Cruz",
      "photoUrl": "",
      "userId": "01641095877604853393"
     },
     "user_tz": -60
    },
    "id": "QYw03J9dtGmv",
    "outputId": "da62711d-a785-48ac-a95c-6c81421574a1"
   },
   "outputs": [
    {
     "name": "stdout",
     "output_type": "stream",
     "text": [
      "99990\n"
     ]
    }
   ],
   "source": [
    "# Number of examples in training set\n",
    "count =0\n",
    "for i in train_raw_image_dataset:\n",
    "    count +=1\n",
    "print(count)"
   ]
  },
  {
   "cell_type": "code",
   "execution_count": 0,
   "metadata": {
    "colab": {
     "base_uri": "https://localhost:8080/",
     "height": 35
    },
    "colab_type": "code",
    "executionInfo": {
     "elapsed": 12677,
     "status": "ok",
     "timestamp": 1589447283306,
     "user": {
      "displayName": "Rafaela Cruz",
      "photoUrl": "",
      "userId": "01641095877604853393"
     },
     "user_tz": -60
    },
    "id": "c-ke9fF8L7co",
    "outputId": "8d736466-d7c7-4856-ab46-cd12aee05d6d"
   },
   "outputs": [
    {
     "name": "stdout",
     "output_type": "stream",
     "text": [
      "16665\n"
     ]
    }
   ],
   "source": [
    "# Number of examples in validation set\n",
    "count =0\n",
    "for i in valid_raw_image_dataset:\n",
    "    count +=1\n",
    "print(count)"
   ]
  },
  {
   "cell_type": "code",
   "execution_count": 0,
   "metadata": {
    "colab": {
     "base_uri": "https://localhost:8080/",
     "height": 35
    },
    "colab_type": "code",
    "executionInfo": {
     "elapsed": 14179,
     "status": "ok",
     "timestamp": 1589447285326,
     "user": {
      "displayName": "Rafaela Cruz",
      "photoUrl": "",
      "userId": "01641095877604853393"
     },
     "user_tz": -60
    },
    "id": "CnuBeTHcL-Wb",
    "outputId": "25f9995c-c09f-476a-d586-85777a329a07"
   },
   "outputs": [
    {
     "name": "stdout",
     "output_type": "stream",
     "text": [
      "16665\n"
     ]
    }
   ],
   "source": [
    "# Number of examples in test set\n",
    "count =0\n",
    "for i in test_raw_image_dataset:\n",
    "    count +=1\n",
    "print(count)"
   ]
  },
  {
   "cell_type": "markdown",
   "metadata": {
    "colab_type": "text",
    "id": "0ZRFhXH3tL9q"
   },
   "source": [
    "## Decode tfrecords"
   ]
  },
  {
   "cell_type": "code",
   "execution_count": 0,
   "metadata": {
    "colab": {},
    "colab_type": "code",
    "id": "Vvzc61OXt10I"
   },
   "outputs": [],
   "source": [
    "# Create a dictionary describing the features.\n",
    "image_feature_description = {\n",
    "            'chinaprov': tf.io.FixedLenFeature([], tf.int64),\n",
    "            'letter': tf.io.FixedLenFeature([], tf.int64),\n",
    "            'seq0':  tf.io.FixedLenFeature([], tf.int64),\n",
    "            'seq1': tf.io.FixedLenFeature([], tf.int64),\n",
    "            'seq2':  tf.io.FixedLenFeature([], tf.int64),\n",
    "            'seq3': tf.io.FixedLenFeature([], tf.int64),\n",
    "            'seq4':  tf.io.FixedLenFeature([], tf.int64),\n",
    "            'image_raw': tf.io.FixedLenFeature([], tf.string),\n",
    "        }"
   ]
  },
  {
   "cell_type": "code",
   "execution_count": 0,
   "metadata": {
    "colab": {},
    "colab_type": "code",
    "id": "Uqjmu7tIt10N"
   },
   "outputs": [],
   "source": [
    "def _parse_image_function(example_proto):\n",
    "    # Parse the input tf.Example proto using the dictionary above.\n",
    "    return tf.io.parse_single_example(example_proto, image_feature_description)"
   ]
  },
  {
   "cell_type": "code",
   "execution_count": 0,
   "metadata": {
    "colab": {},
    "colab_type": "code",
    "id": "fVm-Izeb0-JM"
   },
   "outputs": [],
   "source": [
    "train_parsed_image_dataset = train_raw_image_dataset.map(_parse_image_function)\n",
    "valid_parsed_image_dataset = valid_raw_image_dataset.map(_parse_image_function)\n",
    "test_parsed_image_dataset = test_raw_image_dataset.map(_parse_image_function)"
   ]
  },
  {
   "cell_type": "markdown",
   "metadata": {
    "colab_type": "text",
    "id": "KsJzQvUTT3DE"
   },
   "source": [
    "## Create inputs and labels from raw images"
   ]
  },
  {
   "cell_type": "code",
   "execution_count": 0,
   "metadata": {
    "colab": {},
    "colab_type": "code",
    "id": "7OUVwtkOfFz_"
   },
   "outputs": [],
   "source": [
    "num_chinaprov = 38\n",
    "num_letter = 38\n",
    "num_seq = 38\n",
    "\n",
    "def buildLabels(parsed_data):\n",
    "    chinaprov = parsed_data['chinaprov']\n",
    "    chinaprov_enc = tf.keras.backend.one_hot(chinaprov,num_chinaprov)\n",
    "    letter = parsed_data['letter']\n",
    "    letter_enc = tf.keras.backend.one_hot(letter, num_letter)\n",
    "    seq0 = parsed_data['seq0']\n",
    "    seq0_enc = tf.keras.backend.one_hot(seq0, num_seq)\n",
    "    seq1 = parsed_data['seq1']\n",
    "    seq1_enc = tf.keras.backend.one_hot(seq1, num_seq)\n",
    "    seq2 = parsed_data['seq2']\n",
    "    seq2_enc = tf.keras.backend.one_hot(seq2, num_seq)\n",
    "    seq3 = parsed_data['seq3']\n",
    "    seq3_enc = tf.keras.backend.one_hot(seq3, num_seq)\n",
    "    seq4  = parsed_data['seq4']\n",
    "    seq4_enc = tf.keras.backend.one_hot(seq4, num_seq)\n",
    "    label = tf.stack([chinaprov_enc, letter_enc, seq0_enc, seq1_enc, seq2_enc, seq3_enc, seq4_enc])\n",
    "    return label\n",
    "\n",
    "def buildInputsLabels(parsed_data):\n",
    "    img = tf.image.decode_png(parsed_data['image_raw'])\n",
    "    img = tf.dtypes.cast(img, dtype = tf.float32)\n",
    "    labels = buildLabels(parsed_data)   \n",
    "    return   img,  labels"
   ]
  },
  {
   "cell_type": "code",
   "execution_count": 0,
   "metadata": {
    "colab": {},
    "colab_type": "code",
    "id": "CDX6RnCPUekp"
   },
   "outputs": [],
   "source": [
    "trainDataset = train_parsed_image_dataset.map(buildInputsLabels).shuffle(500)\n",
    "validDataset = valid_parsed_image_dataset.map(buildInputsLabels).shuffle(500)\n",
    "testDataset = test_parsed_image_dataset.map(buildInputsLabels)"
   ]
  },
  {
   "cell_type": "markdown",
   "metadata": {
    "colab_type": "text",
    "id": "u75RAehdojAM"
   },
   "source": [
    "## Convolutional Neural Network\n",
    "\n",
    "Based on the detection module presented on the paper *Towards End-to-End License Plate Detection and Recognition: A Large Dataset and Baseline*, we created a convolutional neural network to identify the license plate characters and numbers in our dataset. We made some changes to the original network, using 6 convolutional layers with increasing number of neurons and varying strides. In every layer, we used Leaky ReLU as activation function, batch normalization, Max Pooling and a dropout of 0.1. In the end, we used a dense layer with 7 * 38 neurons."
   ]
  },
  {
   "cell_type": "code",
   "execution_count": 0,
   "metadata": {
    "colab": {},
    "colab_type": "code",
    "id": "LWbADLSHpRxg"
   },
   "outputs": [],
   "source": [
    "def create_cnn_model():\n",
    "\n",
    "    inputs = Input(shape=(580,360,1))\n",
    "\n",
    "    layer = Conv2D(112, (5,5), strides=2, padding=\"same\", input_shape=(580,360,1))(inputs)\n",
    "    layer = Activation(LeakyReLU())(layer)\n",
    "    layer = BatchNormalization(axis=-1)(layer)\n",
    "    layer = MaxPooling2D(pool_size=(2,2), strides=2)(layer)\n",
    "    layer = Dropout(0.1)(layer)\n",
    "\n",
    "    layer = Conv2D(128, (5,5), strides=2, padding=\"same\")(layer)\n",
    "    layer = Activation(LeakyReLU())(layer)\n",
    "    layer = BatchNormalization(axis=-1)(layer)\n",
    "    layer = MaxPooling2D(pool_size=(2,2), strides=1)(layer)\n",
    "    layer = Dropout(0.1)(layer)\n",
    "\n",
    "    layer = Conv2D(192, (5,5), strides=2, padding=\"same\")(layer)\n",
    "    layer = Activation(LeakyReLU())(layer)\n",
    "    layer = BatchNormalization(axis=-1)(layer)\n",
    "    layer = MaxPooling2D(pool_size=(2,2), strides=2)(layer)\n",
    "    layer = Dropout(0.1)(layer)\n",
    "\n",
    "    layer = Conv2D(224, (5,5), strides=2, padding=\"same\")(layer)\n",
    "    layer = Activation(LeakyReLU())(layer)\n",
    "    layer = BatchNormalization(axis=-1)(layer)\n",
    "    layer = MaxPooling2D(pool_size=(2,2), strides=1)(layer)\n",
    "    layer = Dropout(0.1)(layer)\n",
    "\n",
    "    layer = Conv2D(256, (5,5), strides=1, padding=\"same\")(layer)\n",
    "    layer = Activation(LeakyReLU())(layer)\n",
    "    layer = BatchNormalization(axis=-1)(layer)\n",
    "    layer = MaxPooling2D(pool_size=(2,2), strides=2)(layer)\n",
    "    layer = Dropout(0.1)(layer)\n",
    "\n",
    "    layer = Conv2D(256, (3,3), strides=1, padding=\"same\")(layer)\n",
    "    layer = Activation(LeakyReLU())(layer)\n",
    "    layer = BatchNormalization(axis=-1)(layer)\n",
    "    layer = MaxPooling2D(pool_size=(2,2), strides=1)(layer)\n",
    "    layer = Dropout(0.1)(layer)\n",
    "\n",
    "    layer = Flatten()(layer)\n",
    "    layer = Dense(7*38)(layer)\n",
    "    layer = Reshape((7,38))(layer)\n",
    "\n",
    "    model = Model(inputs = inputs, outputs = layer)\n",
    "  \n",
    "    return model"
   ]
  },
  {
   "cell_type": "markdown",
   "metadata": {
    "colab_type": "text",
    "id": "IAOHmyi0pZZJ"
   },
   "source": [
    "### Necessary functions"
   ]
  },
  {
   "cell_type": "code",
   "execution_count": 0,
   "metadata": {
    "colab": {},
    "colab_type": "code",
    "id": "gOHlezSzpTAS"
   },
   "outputs": [],
   "source": [
    "# Function that trains a model and returns it alongside with the history\n",
    "def train(train_dataset, validation_dataset):\n",
    "\n",
    "    model = create_cnn_model()\n",
    "    model.summary()\n",
    "\n",
    "    opt = tf.keras.optimizers.Adam(lr=0.001)\n",
    "    loss = tf.keras.losses.CategoricalCrossentropy(from_logits=True)\n",
    "\n",
    "    model.compile(optimizer = opt,\n",
    "                  loss = loss, \n",
    "                  metrics = [\"accuracy\"])\n",
    "\n",
    "    history = model.fit(train_dataset.batch(16), epochs=15, \n",
    "                      validation_data=validation_dataset.batch(16))\n",
    "\n",
    "    return model, history\n",
    "  \n",
    "# Function that predicts the outputs of a given model using a given input tensor\n",
    "# Inputs must be an array/tensor in the format (?,580,360,1) and outputs another with format (?,7)\n",
    "def predict(model, inputs):\n",
    "\n",
    "    predicted = model.predict(inputs, batch_size = 16)\n",
    "\n",
    "    # Revert one-hot encoding\n",
    "    labels_predicted = []\n",
    "    for pred in predicted:\n",
    "        softmax = tf.nn.softmax(pred, axis = 1)\n",
    "        labels_predicted.append(np.argmax(softmax, axis = 1))\n",
    "\n",
    "    return labels_predicted\n",
    "\n",
    "# Function that retuns the test error based on the given model and dataset\n",
    "def evaluate(model, eval_dataset):\n",
    "    test_error = model.evaluate(eval_dataset.batch(16))\n",
    "    return test_error\n",
    "\n",
    "# Plot results on a graphic\n",
    "def plot_errors(train_errors, val_errors):\n",
    "    f, ax = plt.subplots(1)\n",
    "    ax.plot(train_errors,'b',label='Training')\n",
    "    ax.plot(val_errors,'r',label='Validation')\n",
    "    ax.legend()\n",
    "    plt.show(f)"
   ]
  },
  {
   "cell_type": "markdown",
   "metadata": {
    "colab_type": "text",
    "id": "K2xAuUDgp_KJ"
   },
   "source": [
    "### Create and train the model and evaluate the results"
   ]
  },
  {
   "cell_type": "code",
   "execution_count": 0,
   "metadata": {
    "colab": {
     "base_uri": "https://localhost:8080/",
     "height": 1000
    },
    "colab_type": "code",
    "executionInfo": {
     "elapsed": 10834481,
     "status": "ok",
     "timestamp": 1589446728062,
     "user": {
      "displayName": "Rafaela Cruz",
      "photoUrl": "",
      "userId": "01641095877604853393"
     },
     "user_tz": -60
    },
    "id": "lzOjNhWOvaSI",
    "outputId": "5370f47e-534c-4084-b80e-fed6a4259dfa"
   },
   "outputs": [
    {
     "name": "stdout",
     "output_type": "stream",
     "text": [
      "Model: \"model\"\n",
      "_________________________________________________________________\n",
      "Layer (type)                 Output Shape              Param #   \n",
      "=================================================================\n",
      "input_1 (InputLayer)         [(None, 580, 360, 1)]     0         \n",
      "_________________________________________________________________\n",
      "conv2d (Conv2D)              (None, 290, 180, 112)     2912      \n",
      "_________________________________________________________________\n",
      "activation (Activation)      (None, 290, 180, 112)     0         \n",
      "_________________________________________________________________\n",
      "batch_normalization (BatchNo (None, 290, 180, 112)     448       \n",
      "_________________________________________________________________\n",
      "max_pooling2d (MaxPooling2D) (None, 145, 90, 112)      0         \n",
      "_________________________________________________________________\n",
      "dropout (Dropout)            (None, 145, 90, 112)      0         \n",
      "_________________________________________________________________\n",
      "conv2d_1 (Conv2D)            (None, 73, 45, 128)       358528    \n",
      "_________________________________________________________________\n",
      "activation_1 (Activation)    (None, 73, 45, 128)       0         \n",
      "_________________________________________________________________\n",
      "batch_normalization_1 (Batch (None, 73, 45, 128)       512       \n",
      "_________________________________________________________________\n",
      "max_pooling2d_1 (MaxPooling2 (None, 72, 44, 128)       0         \n",
      "_________________________________________________________________\n",
      "dropout_1 (Dropout)          (None, 72, 44, 128)       0         \n",
      "_________________________________________________________________\n",
      "conv2d_2 (Conv2D)            (None, 36, 22, 192)       614592    \n",
      "_________________________________________________________________\n",
      "activation_2 (Activation)    (None, 36, 22, 192)       0         \n",
      "_________________________________________________________________\n",
      "batch_normalization_2 (Batch (None, 36, 22, 192)       768       \n",
      "_________________________________________________________________\n",
      "max_pooling2d_2 (MaxPooling2 (None, 18, 11, 192)       0         \n",
      "_________________________________________________________________\n",
      "dropout_2 (Dropout)          (None, 18, 11, 192)       0         \n",
      "_________________________________________________________________\n",
      "conv2d_3 (Conv2D)            (None, 9, 6, 224)         1075424   \n",
      "_________________________________________________________________\n",
      "activation_3 (Activation)    (None, 9, 6, 224)         0         \n",
      "_________________________________________________________________\n",
      "batch_normalization_3 (Batch (None, 9, 6, 224)         896       \n",
      "_________________________________________________________________\n",
      "max_pooling2d_3 (MaxPooling2 (None, 8, 5, 224)         0         \n",
      "_________________________________________________________________\n",
      "dropout_3 (Dropout)          (None, 8, 5, 224)         0         \n",
      "_________________________________________________________________\n",
      "conv2d_4 (Conv2D)            (None, 8, 5, 256)         1433856   \n",
      "_________________________________________________________________\n",
      "activation_4 (Activation)    (None, 8, 5, 256)         0         \n",
      "_________________________________________________________________\n",
      "batch_normalization_4 (Batch (None, 8, 5, 256)         1024      \n",
      "_________________________________________________________________\n",
      "max_pooling2d_4 (MaxPooling2 (None, 4, 2, 256)         0         \n",
      "_________________________________________________________________\n",
      "dropout_4 (Dropout)          (None, 4, 2, 256)         0         \n",
      "_________________________________________________________________\n",
      "conv2d_5 (Conv2D)            (None, 4, 2, 256)         590080    \n",
      "_________________________________________________________________\n",
      "activation_5 (Activation)    (None, 4, 2, 256)         0         \n",
      "_________________________________________________________________\n",
      "batch_normalization_5 (Batch (None, 4, 2, 256)         1024      \n",
      "_________________________________________________________________\n",
      "max_pooling2d_5 (MaxPooling2 (None, 3, 1, 256)         0         \n",
      "_________________________________________________________________\n",
      "dropout_5 (Dropout)          (None, 3, 1, 256)         0         \n",
      "_________________________________________________________________\n",
      "flatten (Flatten)            (None, 768)               0         \n",
      "_________________________________________________________________\n",
      "dense (Dense)                (None, 266)               204554    \n",
      "_________________________________________________________________\n",
      "reshape (Reshape)            (None, 7, 38)             0         \n",
      "=================================================================\n",
      "Total params: 4,284,618\n",
      "Trainable params: 4,282,282\n",
      "Non-trainable params: 2,336\n",
      "_________________________________________________________________\n",
      "Epoch 1/15\n",
      "   6250/Unknown - 677s 108ms/step - loss: 2.2536 - accuracy: 0.3577Epoch 2/15\n",
      "6250/6250 [==============================] - 721s 115ms/step - loss: 1.3763 - accuracy: 0.5902 - val_loss: 0.9091 - val_accuracy: 0.7244\n",
      "Epoch 3/15\n",
      "6250/6250 [==============================] - 719s 115ms/step - loss: 0.8155 - accuracy: 0.7482 - val_loss: 0.5797 - val_accuracy: 0.8191\n",
      "Epoch 4/15\n",
      "6250/6250 [==============================] - 720s 115ms/step - loss: 0.5806 - accuracy: 0.8165 - val_loss: 0.4429 - val_accuracy: 0.8623\n",
      "Epoch 5/15\n",
      "6250/6250 [==============================] - 721s 115ms/step - loss: 0.4542 - accuracy: 0.8555 - val_loss: 0.3756 - val_accuracy: 0.8845\n",
      "Epoch 6/15\n",
      "6250/6250 [==============================] - 720s 115ms/step - loss: 0.3745 - accuracy: 0.8800 - val_loss: 0.3275 - val_accuracy: 0.9002\n",
      "Epoch 7/15\n",
      "6250/6250 [==============================] - 720s 115ms/step - loss: 0.3193 - accuracy: 0.8974 - val_loss: 0.2917 - val_accuracy: 0.9105\n",
      "Epoch 8/15\n",
      "6250/6250 [==============================] - 720s 115ms/step - loss: 0.2778 - accuracy: 0.9101 - val_loss: 0.2610 - val_accuracy: 0.9215\n",
      "Epoch 9/15\n",
      "6250/6250 [==============================] - 719s 115ms/step - loss: 0.2465 - accuracy: 0.9200 - val_loss: 0.2513 - val_accuracy: 0.9234\n",
      "Epoch 10/15\n",
      "6250/6250 [==============================] - 715s 114ms/step - loss: 0.2206 - accuracy: 0.9279 - val_loss: 0.2548 - val_accuracy: 0.9234\n",
      "Epoch 11/15\n",
      "6250/6250 [==============================] - 719s 115ms/step - loss: 0.1993 - accuracy: 0.9348 - val_loss: 0.2252 - val_accuracy: 0.9343\n",
      "Epoch 12/15\n",
      "6250/6250 [==============================] - 720s 115ms/step - loss: 0.1821 - accuracy: 0.9401 - val_loss: 0.2193 - val_accuracy: 0.9352\n",
      "Epoch 13/15\n",
      "6250/6250 [==============================] - 721s 115ms/step - loss: 0.1669 - accuracy: 0.9451 - val_loss: 0.2161 - val_accuracy: 0.9379\n",
      "Epoch 14/15\n",
      "6250/6250 [==============================] - 721s 115ms/step - loss: 0.1547 - accuracy: 0.9486 - val_loss: 0.2165 - val_accuracy: 0.9380\n",
      "Epoch 15/15\n",
      "6250/6250 [==============================] - 720s 115ms/step - loss: 0.1443 - accuracy: 0.9521 - val_loss: 0.2086 - val_accuracy: 0.9421\n"
     ]
    }
   ],
   "source": [
    "# Create and train the model\n",
    "model, history = train(trainDataset, validDataset)"
   ]
  },
  {
   "cell_type": "code",
   "execution_count": 0,
   "metadata": {
    "colab": {
     "base_uri": "https://localhost:8080/",
     "height": 52
    },
    "colab_type": "code",
    "executionInfo": {
     "elapsed": 31572,
     "status": "ok",
     "timestamp": 1589446767205,
     "user": {
      "displayName": "Rafaela Cruz",
      "photoUrl": "",
      "userId": "01641095877604853393"
     },
     "user_tz": -60
    },
    "id": "2M6rmDesr3fF",
    "outputId": "2eaa0b1d-21fc-4dc5-fe9f-bca678388bb9"
   },
   "outputs": [
    {
     "name": "stdout",
     "output_type": "stream",
     "text": [
      "1042/1042 [==============================] - 31s 30ms/step - loss: 0.2028 - accuracy: 0.9437\n",
      "test_error: [0.20277199149131775, 0.9436886310577393]\n"
     ]
    }
   ],
   "source": [
    "# Compute loss and accuracy on test set\n",
    "test_error = evaluate(model, testDataset)\n",
    "print(f\"test_error: {test_error}\")"
   ]
  },
  {
   "cell_type": "code",
   "execution_count": 0,
   "metadata": {
    "colab": {
     "base_uri": "https://localhost:8080/",
     "height": 265
    },
    "colab_type": "code",
    "executionInfo": {
     "elapsed": 31628,
     "status": "ok",
     "timestamp": 1589446767751,
     "user": {
      "displayName": "Rafaela Cruz",
      "photoUrl": "",
      "userId": "01641095877604853393"
     },
     "user_tz": -60
    },
    "id": "dtJnfE6IEtWp",
    "outputId": "f1733bf5-0adb-45f4-bb20-9707bb781a37"
   },
   "outputs": [
    {
     "data": {
      "image/png": "[encoded data removed]",
      "text/plain": [
       "<Figure size 432x288 with 1 Axes>"
      ]
     },
     "metadata": {
      "needs_background": "light",
      "tags": []
     },
     "output_type": "display_data"
    }
   ],
   "source": [
    "# Plot the loss for training and validation sets during training\n",
    "history_dict = history.history\n",
    "train_error = history_dict['loss']\n",
    "val_error = history_dict['val_loss']\n",
    "plot_errors(train_error, val_error)"
   ]
  },
  {
   "cell_type": "code",
   "execution_count": 0,
   "metadata": {
    "colab": {
     "base_uri": "https://localhost:8080/",
     "height": 265
    },
    "colab_type": "code",
    "executionInfo": {
     "elapsed": 29556,
     "status": "ok",
     "timestamp": 1589446767757,
     "user": {
      "displayName": "Rafaela Cruz",
      "photoUrl": "",
      "userId": "01641095877604853393"
     },
     "user_tz": -60
    },
    "id": "IbiiVhImp2HX",
    "outputId": "943accef-ae4d-4143-e14b-ba3bab549ab0"
   },
   "outputs": [
    {
     "data": {
      "image/png": "[encoded data removed]",
      "text/plain": [
       "<Figure size 432x288 with 1 Axes>"
      ]
     },
     "metadata": {
      "needs_background": "light",
      "tags": []
     },
     "output_type": "display_data"
    }
   ],
   "source": [
    "# Plot the accuracy for training and validation sets during training\n",
    "train_acc = history_dict['accuracy']\n",
    "val_acc = history_dict['val_accuracy']\n",
    "plot_errors(train_acc, val_acc)"
   ]
  },
  {
   "cell_type": "markdown",
   "metadata": {
    "colab_type": "text",
    "id": "haOAn01SlOiJ"
   },
   "source": [
    "Predict the labels for one example in the test set:"
   ]
  },
  {
   "cell_type": "code",
   "execution_count": 0,
   "metadata": {
    "colab": {
     "base_uri": "https://localhost:8080/",
     "height": 615
    },
    "colab_type": "code",
    "executionInfo": {
     "elapsed": 27658,
     "status": "ok",
     "timestamp": 1589446767764,
     "user": {
      "displayName": "Rafaela Cruz",
      "photoUrl": "",
      "userId": "01641095877604853393"
     },
     "user_tz": -60
    },
    "id": "zry2gQakui-e",
    "outputId": "caf84741-352f-4400-b793-4239ab2658f7"
   },
   "outputs": [
    {
     "data": {
      "image/jpeg": "[encoded data removed]",
      "text/plain": [
       "<IPython.core.display.Image object>"
      ]
     },
     "metadata": {
      "tags": []
     },
     "output_type": "display_data"
    },
    {
     "name": "stdout",
     "output_type": "stream",
     "text": [
      "(580, 360, 1)\n"
     ]
    }
   ],
   "source": [
    "# Show the image for the example\n",
    "it = iter(test_parsed_image_dataset)\n",
    "data_parsed = next(it)\n",
    "image = data_parsed['image_raw'].numpy()\n",
    "display.display(display.Image(data=image))\n",
    "img = tf.image.decode_png(data_parsed['image_raw'])\n",
    "print(img.numpy().shape)"
   ]
  },
  {
   "cell_type": "code",
   "execution_count": 0,
   "metadata": {
    "colab": {
     "base_uri": "https://localhost:8080/",
     "height": 52
    },
    "colab_type": "code",
    "executionInfo": {
     "elapsed": 590,
     "status": "ok",
     "timestamp": 1589447110570,
     "user": {
      "displayName": "Rafaela Cruz",
      "photoUrl": "",
      "userId": "01641095877604853393"
     },
     "user_tz": -60
    },
    "id": "ymMajfOvl7H3",
    "outputId": "d40b78e6-6eb7-44b1-cbfc-5aff3cdf7d31"
   },
   "outputs": [
    {
     "name": "stdout",
     "output_type": "stream",
     "text": [
      "True label: [ 0  0 10  6 24 33 26]\n",
      "Prediction: [array([ 0,  0, 10,  6, 24, 33, 26])]\n"
     ]
    }
   ],
   "source": [
    "# Compare the true labels with the predictions for that example\n",
    "firstIt = iter(testDataset)\n",
    "data =next(firstIt)\n",
    "\n",
    "label = data[1]\n",
    "softmax = tf.nn.softmax(label, axis = 1)\n",
    "label = np.argmax(softmax, axis = 1)\n",
    "print(\"True label:\", label)\n",
    "\n",
    "test_inputs = [data[0].numpy()]\n",
    "test_inputs = tf.convert_to_tensor(test_inputs, dtype=tf.float32)\n",
    "prediction = predict(model,test_inputs)\n",
    "print(\"Prediction:\", prediction)"
   ]
  },
  {
   "cell_type": "code",
   "execution_count": 0,
   "metadata": {
    "colab": {},
    "colab_type": "code",
    "id": "Ky-ImLKdbxbs"
   },
   "outputs": [],
   "source": []
  }
 ],
 "metadata": {
  "accelerator": "GPU",
  "colab": {
   "collapsed_sections": [],
   "machine_shape": "hm",
   "name": "project_56926_56969.ipynb",
   "provenance": []
  },
  "kernelspec": {
   "display_name": "Python 3",
   "language": "python",
   "name": "python3"
  },
  "language_info": {
   "codemirror_mode": {
    "name": "ipython",
    "version": 3
   },
   "file_extension": ".py",
   "mimetype": "text/x-python",
   "name": "python",
   "nbconvert_exporter": "python",
   "pygments_lexer": "ipython3",
   "version": "3.7.4"
  }
 },
 "nbformat": 4,
 "nbformat_minor": 1
}
